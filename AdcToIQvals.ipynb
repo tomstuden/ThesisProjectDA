{
 "cells": [
  {
   "cell_type": "code",
   "execution_count": 1,
   "id": "a7c46445",
   "metadata": {},
   "outputs": [
    {
     "name": "stdout",
     "output_type": "stream",
     "text": [
      "🔢 Total int16 values in file: 112497840\n",
      "🔀 Total complex (I/Q) samples: 56248920\n"
     ]
    }
   ],
   "source": [
    "import numpy as np\n",
    "\n",
    "bin_file_path = r\"E:\\Masters Project\\Raw Data\\Raw Data Collection\\Subject 1 - Run 1 - Sitting - 4 Minutes\\adc_data_Raw_0.bin\"\n",
    "\n",
    "adc_data = np.fromfile(bin_file_path, dtype=np.int16)\n",
    "total_values = adc_data.size\n",
    "total_complex_samples = total_values // 2\n",
    "\n",
    "print(f\"🔢 Total int16 values in file: {total_values}\")\n",
    "print(f\"🔀 Total complex (I/Q) samples: {total_complex_samples}\")\n"
   ]
  },
  {
   "cell_type": "code",
   "execution_count": 4,
   "id": "e9b94921",
   "metadata": {},
   "outputs": [
    {
     "name": "stdout",
     "output_type": "stream",
     "text": [
      "🔢 Total int16 values in file: 112497840\n",
      "🔀 Total complex (I/Q) samples: 56248920\n",
      "Reading from: E:\\Masters Project\\Raw Data\\Raw Data Collection\\Subject 1 - Run 1 - Sitting - 4 Minutes\\adc_data_Raw_0.bin\n",
      "✔ Using 572 full frames out of available data\n",
      "✅ I/Q CSV saved to: E:\\Masters Project\\Raw Data\\Raw Data Collection\\Subject 1 - Run 1 - Sitting - 4 Minutes\\binOutput_IQ.csv\n"
     ]
    }
   ],
   "source": [
    "import numpy as np\n",
    "import csv\n",
    "\n",
    "\n",
    "bin_file_path = r\"E:\\Masters Project\\Raw Data\\Raw Data Collection\\Subject 1 - Run 1 - Sitting - 4 Minutes\\adc_data_Raw_0.bin\"\n",
    "\n",
    "adc_data = np.fromfile(bin_file_path, dtype=np.int16)\n",
    "total_values = adc_data.size\n",
    "total_complex_samples = total_values // 2\n",
    "\n",
    "print(f\"🔢 Total int16 values in file: {total_values}\")\n",
    "print(f\"🔀 Total complex (I/Q) samples: {total_complex_samples}\")\n",
    "\n",
    "def bin_to_iq_csv_dynamic(bin_file_path, csv_file_path, num_samples_per_chirp, num_chirps_per_frame, num_antennas):\n",
    "    print(f\"Reading from: {bin_file_path}\")\n",
    "\n",
    "    adc_data = np.fromfile(bin_file_path, dtype=np.int16)\n",
    "    total_values = adc_data.size\n",
    "\n",
    "    if total_values % 2 != 0:\n",
    "        adc_data = adc_data[:-1]  # trim 1 to make even\n",
    "    total_complex = len(adc_data) // 2\n",
    "\n",
    "    samples_per_frame = num_samples_per_chirp * num_chirps_per_frame * num_antennas\n",
    "    num_full_frames = total_complex // samples_per_frame\n",
    "\n",
    "    usable_values = num_full_frames * samples_per_frame * 2\n",
    "    adc_data = adc_data[:usable_values]  # trim trailing garbage\n",
    "\n",
    "    print(f\"✔ Using {num_full_frames} full frames out of available data\")\n",
    "\n",
    "    # Reshape to [Frames, Chirps, Samples, Antennas, 2]\n",
    "    adc_data = adc_data.reshape((num_full_frames,\n",
    "                                 num_chirps_per_frame,\n",
    "                                 num_samples_per_chirp,\n",
    "                                 num_antennas,\n",
    "                                 2))\n",
    "\n",
    "    with open(csv_file_path, 'w', newline='') as csvfile:\n",
    "        writer = csv.writer(csvfile)\n",
    "        writer.writerow(['Frame Index', 'Chirp Index', 'Sample Index', 'Antenna Index', 'I', 'Q'])\n",
    "\n",
    "        for frame in range(num_full_frames):\n",
    "            for chirp in range(num_chirps_per_frame):\n",
    "                for sample in range(num_samples_per_chirp):\n",
    "                    for antenna in range(num_antennas):\n",
    "                        i_val = adc_data[frame, chirp, sample, antenna, 0]\n",
    "                        q_val = adc_data[frame, chirp, sample, antenna, 1]\n",
    "                        writer.writerow([frame, chirp, sample, antenna, i_val, q_val])\n",
    "\n",
    "    print(f\"✅ I/Q CSV saved to: {csv_file_path}\")\n",
    "\n",
    "\n",
    "# === Call the function ===\n",
    "bin_file_path = r\"E:\\Masters Project\\Raw Data\\Raw Data Collection\\Subject 1 - Run 1 - Sitting - 4 Minutes\\adc_data_Raw_0.bin\"\n",
    "csv_file_path = r\"E:\\Masters Project\\Raw Data\\Raw Data Collection\\Subject 1 - Run 1 - Sitting - 4 Minutes\\binOutput_IQ.csv\"\n",
    "\n",
    "num_samples_per_chirp = 256\n",
    "num_chirps_per_frame = 64\n",
    "num_antennas = 6\n",
    "\n",
    "bin_to_iq_csv_dynamic(bin_file_path, csv_file_path, num_samples_per_chirp, num_chirps_per_frame, num_antennas)\n"
   ]
  },
  {
   "cell_type": "code",
   "execution_count": null,
   "id": "ffdc7762",
   "metadata": {},
   "outputs": [],
   "source": []
  },
  {
   "cell_type": "code",
   "execution_count": null,
   "id": "6c4c42db",
   "metadata": {},
   "outputs": [],
   "source": []
  }
 ],
 "metadata": {
  "kernelspec": {
   "display_name": "Python 3 (ipykernel)",
   "language": "python",
   "name": "python3"
  },
  "language_info": {
   "codemirror_mode": {
    "name": "ipython",
    "version": 3
   },
   "file_extension": ".py",
   "mimetype": "text/x-python",
   "name": "python",
   "nbconvert_exporter": "python",
   "pygments_lexer": "ipython3",
   "version": "3.11.4"
  }
 },
 "nbformat": 4,
 "nbformat_minor": 5
}
